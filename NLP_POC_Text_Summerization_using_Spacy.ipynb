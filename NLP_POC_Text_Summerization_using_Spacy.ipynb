{
  "nbformat": 4,
  "nbformat_minor": 0,
  "metadata": {
    "colab": {
      "provenance": [],
      "authorship_tag": "ABX9TyNR1tCjdnfnwgufQCEuPK5Z",
      "include_colab_link": true
    },
    "kernelspec": {
      "name": "python3",
      "display_name": "Python 3"
    },
    "language_info": {
      "name": "python"
    }
  },
  "cells": [
    {
      "cell_type": "markdown",
      "metadata": {
        "id": "view-in-github",
        "colab_type": "text"
      },
      "source": [
        "<a href=\"https://colab.research.google.com/github/SaurabhSRP/POC-NLP-conceptProjects/blob/main/NLP_POC_Text_Summerization_using_Spacy.ipynb\" target=\"_parent\"><img src=\"https://colab.research.google.com/assets/colab-badge.svg\" alt=\"Open In Colab\"/></a>"
      ]
    },
    {
      "cell_type": "markdown",
      "source": [
        "How to do text summarization\n",
        "\n",
        "Text cleaning\n",
        "\n",
        "Sentence tokenization\n",
        "\n",
        "Word tokenzation\n",
        "\n",
        "Word-frequency table\n",
        "\n",
        "Summarization"
      ],
      "metadata": {
        "id": "sL15JHvEzXjy"
      }
    },
    {
      "cell_type": "code",
      "execution_count": null,
      "metadata": {
        "id": "V7_HnCixzIA0"
      },
      "outputs": [],
      "source": [
        "text=\"The replacement of the hapless Liz Truss by Rishi Sunak was widely assumed to herald the return of a “grown-up”, managerial style of politics to Downing Street. With the markets duly placated by Jeremy Hunt’s autumn statement, some senior Tories even began to worry that Sunakian stability and fiscal orthodoxy would be too boring a platform on which to face Labour at the next election.But it turns out that, outside the City, Britons aren’t bored by Mr Sunak’s fledgling premiership; they are furious and insurgent. Rail and postal workers, nurses, ambulance workers and civil servants are currently planning to go on strike in December. They may be joined by teachers and junior doctors in the new year. In all, more than a million members of the workforce may withdraw their labour in the lead-up to Christmas – numbers reminiscent of the “winter of discontent” in 1978/9. This is despite lower levels of union membership and far more stringent rules governing strike action.Disastrously, after being buffeted into U-turns on housebuilding and onshore windfarms by internal party revolts, Mr Sunak appears to see the strikes as a chance to confound those critics who accuse him of being weak. At prime minister’s questions on Wednesday, he challenged Keir Starmer to back even tougher anti-strike legislation, to be introduced next year. As the transport secretary, Mark Harper, has admitted, this will not affect industrial action this winter, but that is not the point. The government’s current strategy is to whip up a confrontation with the unions in the belief that the public will be on its side.\""
      ]
    },
    {
      "cell_type": "code",
      "source": [
        "text"
      ],
      "metadata": {
        "colab": {
          "base_uri": "https://localhost:8080/",
          "height": 139
        },
        "id": "5Q-RpLUV0718",
        "outputId": "a3611d94-3d80-46fe-d2d3-d496ca866eb2"
      },
      "execution_count": null,
      "outputs": [
        {
          "output_type": "execute_result",
          "data": {
            "text/plain": [
              "'The replacement of the hapless Liz Truss by Rishi Sunak was widely assumed to herald the return of a “grown-up”, managerial style of politics to Downing Street. With the markets duly placated by Jeremy Hunt’s autumn statement, some senior Tories even began to worry that Sunakian stability and fiscal orthodoxy would be too boring a platform on which to face Labour at the next election.But it turns out that, outside the City, Britons aren’t bored by Mr Sunak’s fledgling premiership; they are furious and insurgent. Rail and postal workers, nurses, ambulance workers and civil servants are currently planning to go on strike in December. They may be joined by teachers and junior doctors in the new year. In all, more than a million members of the workforce may withdraw their labour in the lead-up to Christmas – numbers reminiscent of the “winter of discontent” in 1978/9. This is despite lower levels of union membership and far more stringent rules governing strike action.Disastrously, after being buffeted into U-turns on housebuilding and onshore windfarms by internal party revolts, Mr Sunak appears to see the strikes as a chance to confound those critics who accuse him of being weak. At prime minister’s questions on Wednesday, he challenged Keir Starmer to back even tougher anti-strike legislation, to be introduced next year. As the transport secretary, Mark Harper, has admitted, this will not affect industrial action this winter, but that is not the point. The government’s current strategy is to whip up a confrontation with the unions in the belief that the public will be on its side.'"
            ],
            "application/vnd.google.colaboratory.intrinsic+json": {
              "type": "string"
            }
          },
          "metadata": {},
          "execution_count": 4
        }
      ]
    },
    {
      "cell_type": "code",
      "source": [
        "import spacy\n",
        "from spacy.lang.en.stop_words import STOP_WORDS\n",
        "from string import punctuation"
      ],
      "metadata": {
        "colab": {
          "base_uri": "https://localhost:8080/"
        },
        "id": "9Bcf3rQP083C",
        "outputId": "06ab403d-831d-42e6-f37e-0e3e44e243d5"
      },
      "execution_count": null,
      "outputs": [
        {
          "output_type": "stream",
          "name": "stderr",
          "text": [
            "/usr/local/lib/python3.8/dist-packages/torch/cuda/__init__.py:497: UserWarning: Can't initialize NVML\n",
            "  warnings.warn(\"Can't initialize NVML\")\n"
          ]
        }
      ]
    },
    {
      "cell_type": "code",
      "source": [
        "stopwords = list(STOP_WORDS)\n",
        "     "
      ],
      "metadata": {
        "id": "N0T4eAvE1K1T"
      },
      "execution_count": null,
      "outputs": []
    },
    {
      "cell_type": "code",
      "source": [
        "nlp = spacy.load('en_core_web_sm')"
      ],
      "metadata": {
        "id": "ZI8mixct1QVu"
      },
      "execution_count": null,
      "outputs": []
    },
    {
      "cell_type": "code",
      "source": [
        "\n",
        "doc = nlp(text)"
      ],
      "metadata": {
        "id": "HQ9Ed7tu1STb"
      },
      "execution_count": null,
      "outputs": []
    },
    {
      "cell_type": "code",
      "source": [
        "doc"
      ],
      "metadata": {
        "colab": {
          "base_uri": "https://localhost:8080/"
        },
        "id": "oGFq9scx1Tuw",
        "outputId": "52b94a44-9032-40f1-9f1d-a72e74373795"
      },
      "execution_count": null,
      "outputs": [
        {
          "output_type": "execute_result",
          "data": {
            "text/plain": [
              "The replacement of the hapless Liz Truss by Rishi Sunak was widely assumed to herald the return of a “grown-up”, managerial style of politics to Downing Street. With the markets duly placated by Jeremy Hunt’s autumn statement, some senior Tories even began to worry that Sunakian stability and fiscal orthodoxy would be too boring a platform on which to face Labour at the next election.But it turns out that, outside the City, Britons aren’t bored by Mr Sunak’s fledgling premiership; they are furious and insurgent. Rail and postal workers, nurses, ambulance workers and civil servants are currently planning to go on strike in December. They may be joined by teachers and junior doctors in the new year. In all, more than a million members of the workforce may withdraw their labour in the lead-up to Christmas – numbers reminiscent of the “winter of discontent” in 1978/9. This is despite lower levels of union membership and far more stringent rules governing strike action.Disastrously, after being buffeted into U-turns on housebuilding and onshore windfarms by internal party revolts, Mr Sunak appears to see the strikes as a chance to confound those critics who accuse him of being weak. At prime minister’s questions on Wednesday, he challenged Keir Starmer to back even tougher anti-strike legislation, to be introduced next year. As the transport secretary, Mark Harper, has admitted, this will not affect industrial action this winter, but that is not the point. The government’s current strategy is to whip up a confrontation with the unions in the belief that the public will be on its side."
            ]
          },
          "metadata": {},
          "execution_count": 9
        }
      ]
    },
    {
      "cell_type": "code",
      "source": [
        "tokens = [token.text for token in doc]\n",
        "print(tokens)"
      ],
      "metadata": {
        "colab": {
          "base_uri": "https://localhost:8080/"
        },
        "id": "Z-xr_4Dq1Umz",
        "outputId": "cf5ab495-a5db-4510-e295-4a8bf5f80c7c"
      },
      "execution_count": null,
      "outputs": [
        {
          "output_type": "stream",
          "name": "stdout",
          "text": [
            "['The', 'replacement', 'of', 'the', 'hapless', 'Liz', 'Truss', 'by', 'Rishi', 'Sunak', 'was', 'widely', 'assumed', 'to', 'herald', 'the', 'return', 'of', 'a', '“', 'grown', '-', 'up', '”', ',', 'managerial', 'style', 'of', 'politics', 'to', 'Downing', 'Street', '.', 'With', 'the', 'markets', 'duly', 'placated', 'by', 'Jeremy', 'Hunt', '’s', 'autumn', 'statement', ',', 'some', 'senior', 'Tories', 'even', 'began', 'to', 'worry', 'that', 'Sunakian', 'stability', 'and', 'fiscal', 'orthodoxy', 'would', 'be', 'too', 'boring', 'a', 'platform', 'on', 'which', 'to', 'face', 'Labour', 'at', 'the', 'next', 'election', '.', 'But', 'it', 'turns', 'out', 'that', ',', 'outside', 'the', 'City', ',', 'Britons', 'are', 'n’t', 'bored', 'by', 'Mr', 'Sunak', '’s', 'fledgling', 'premiership', ';', 'they', 'are', 'furious', 'and', 'insurgent', '.', 'Rail', 'and', 'postal', 'workers', ',', 'nurses', ',', 'ambulance', 'workers', 'and', 'civil', 'servants', 'are', 'currently', 'planning', 'to', 'go', 'on', 'strike', 'in', 'December', '.', 'They', 'may', 'be', 'joined', 'by', 'teachers', 'and', 'junior', 'doctors', 'in', 'the', 'new', 'year', '.', 'In', 'all', ',', 'more', 'than', 'a', 'million', 'members', 'of', 'the', 'workforce', 'may', 'withdraw', 'their', 'labour', 'in', 'the', 'lead', '-', 'up', 'to', 'Christmas', '–', 'numbers', 'reminiscent', 'of', 'the', '“', 'winter', 'of', 'discontent', '”', 'in', '1978/9', '.', 'This', 'is', 'despite', 'lower', 'levels', 'of', 'union', 'membership', 'and', 'far', 'more', 'stringent', 'rules', 'governing', 'strike', 'action', '.', 'Disastrously', ',', 'after', 'being', 'buffeted', 'into', 'U', '-', 'turns', 'on', 'housebuilding', 'and', 'onshore', 'windfarms', 'by', 'internal', 'party', 'revolts', ',', 'Mr', 'Sunak', 'appears', 'to', 'see', 'the', 'strikes', 'as', 'a', 'chance', 'to', 'confound', 'those', 'critics', 'who', 'accuse', 'him', 'of', 'being', 'weak', '.', 'At', 'prime', 'minister', '’s', 'questions', 'on', 'Wednesday', ',', 'he', 'challenged', 'Keir', 'Starmer', 'to', 'back', 'even', 'tougher', 'anti', '-', 'strike', 'legislation', ',', 'to', 'be', 'introduced', 'next', 'year', '.', 'As', 'the', 'transport', 'secretary', ',', 'Mark', 'Harper', ',', 'has', 'admitted', ',', 'this', 'will', 'not', 'affect', 'industrial', 'action', 'this', 'winter', ',', 'but', 'that', 'is', 'not', 'the', 'point', '.', 'The', 'government', '’s', 'current', 'strategy', 'is', 'to', 'whip', 'up', 'a', 'confrontation', 'with', 'the', 'unions', 'in', 'the', 'belief', 'that', 'the', 'public', 'will', 'be', 'on', 'its', 'side', '.']\n"
          ]
        }
      ]
    },
    {
      "cell_type": "code",
      "source": [
        "punctuation = punctuation + '\\n'\n",
        "punctuation"
      ],
      "metadata": {
        "colab": {
          "base_uri": "https://localhost:8080/",
          "height": 35
        },
        "id": "6nUxd-9w1bVi",
        "outputId": "6b09d35b-6838-41bb-b747-44ef3cb711bd"
      },
      "execution_count": null,
      "outputs": [
        {
          "output_type": "execute_result",
          "data": {
            "text/plain": [
              "'!\"#$%&\\'()*+,-./:;<=>?@[\\\\]^_`{|}~\\n'"
            ],
            "application/vnd.google.colaboratory.intrinsic+json": {
              "type": "string"
            }
          },
          "metadata": {},
          "execution_count": 11
        }
      ]
    },
    {
      "cell_type": "code",
      "source": [
        "word_frequencies = {}\n",
        "for word in doc:\n",
        "  if word.text.lower() not in stopwords:\n",
        "    if word.text.lower() not in punctuation:\n",
        "      if word.text not in word_frequencies.keys():\n",
        "        word_frequencies[word.text] = 1\n",
        "      else:\n",
        "        word_frequencies[word.text] += 1"
      ],
      "metadata": {
        "id": "ZXaxnAkX1j_K"
      },
      "execution_count": null,
      "outputs": []
    },
    {
      "cell_type": "code",
      "source": [
        "print(word_frequencies)"
      ],
      "metadata": {
        "colab": {
          "base_uri": "https://localhost:8080/"
        },
        "id": "9ZKsUXqk1wyu",
        "outputId": "d50fe827-9080-4c79-e5f6-98581246b37d"
      },
      "execution_count": null,
      "outputs": [
        {
          "output_type": "stream",
          "name": "stdout",
          "text": [
            "{'replacement': 1, 'hapless': 1, 'Liz': 1, 'Truss': 1, 'Rishi': 1, 'Sunak': 3, 'widely': 1, 'assumed': 1, 'herald': 1, 'return': 1, '“': 2, 'grown': 1, '”': 2, 'managerial': 1, 'style': 1, 'politics': 1, 'Downing': 1, 'Street': 1, 'markets': 1, 'duly': 1, 'placated': 1, 'Jeremy': 1, 'Hunt': 1, 'autumn': 1, 'statement': 1, 'senior': 1, 'Tories': 1, 'began': 1, 'worry': 1, 'Sunakian': 1, 'stability': 1, 'fiscal': 1, 'orthodoxy': 1, 'boring': 1, 'platform': 1, 'face': 1, 'Labour': 1, 'election': 1, 'turns': 2, 'outside': 1, 'City': 1, 'Britons': 1, 'bored': 1, 'Mr': 2, 'fledgling': 1, 'premiership': 1, 'furious': 1, 'insurgent': 1, 'Rail': 1, 'postal': 1, 'workers': 2, 'nurses': 1, 'ambulance': 1, 'civil': 1, 'servants': 1, 'currently': 1, 'planning': 1, 'strike': 3, 'December': 1, 'joined': 1, 'teachers': 1, 'junior': 1, 'doctors': 1, 'new': 1, 'year': 2, 'million': 1, 'members': 1, 'workforce': 1, 'withdraw': 1, 'labour': 1, 'lead': 1, 'Christmas': 1, '–': 1, 'numbers': 1, 'reminiscent': 1, 'winter': 2, 'discontent': 1, '1978/9': 1, 'despite': 1, 'lower': 1, 'levels': 1, 'union': 1, 'membership': 1, 'far': 1, 'stringent': 1, 'rules': 1, 'governing': 1, 'action': 2, 'Disastrously': 1, 'buffeted': 1, 'U': 1, 'housebuilding': 1, 'onshore': 1, 'windfarms': 1, 'internal': 1, 'party': 1, 'revolts': 1, 'appears': 1, 'strikes': 1, 'chance': 1, 'confound': 1, 'critics': 1, 'accuse': 1, 'weak': 1, 'prime': 1, 'minister': 1, 'questions': 1, 'Wednesday': 1, 'challenged': 1, 'Keir': 1, 'Starmer': 1, 'tougher': 1, 'anti': 1, 'legislation': 1, 'introduced': 1, 'transport': 1, 'secretary': 1, 'Mark': 1, 'Harper': 1, 'admitted': 1, 'affect': 1, 'industrial': 1, 'point': 1, 'government': 1, 'current': 1, 'strategy': 1, 'whip': 1, 'confrontation': 1, 'unions': 1, 'belief': 1, 'public': 1}\n"
          ]
        }
      ]
    },
    {
      "cell_type": "code",
      "source": [
        "max_frequency = max(word_frequencies.values())\n",
        "max_frequency\n",
        "     "
      ],
      "metadata": {
        "colab": {
          "base_uri": "https://localhost:8080/"
        },
        "id": "9LAox-up2IgN",
        "outputId": "10f3c93d-b27d-4f8d-c880-dc3aa4536fe7"
      },
      "execution_count": null,
      "outputs": [
        {
          "output_type": "execute_result",
          "data": {
            "text/plain": [
              "3"
            ]
          },
          "metadata": {},
          "execution_count": 22
        }
      ]
    },
    {
      "cell_type": "code",
      "source": [
        "for word in word_frequencies.keys():\n",
        "  word_frequencies[word] = word_frequencies[word]/max_frequency\n",
        "     "
      ],
      "metadata": {
        "id": "_iENMwOm2S6D"
      },
      "execution_count": null,
      "outputs": []
    },
    {
      "cell_type": "code",
      "source": [
        "print(word_frequencies)\n",
        "     "
      ],
      "metadata": {
        "colab": {
          "base_uri": "https://localhost:8080/"
        },
        "id": "WlYbJMgi2a0E",
        "outputId": "b6f2e439-81b2-4305-c4c8-7a5581f1a74b"
      },
      "execution_count": null,
      "outputs": [
        {
          "output_type": "stream",
          "name": "stdout",
          "text": [
            "{'replacement': 0.3333333333333333, 'hapless': 0.3333333333333333, 'Liz': 0.3333333333333333, 'Truss': 0.3333333333333333, 'Rishi': 0.3333333333333333, 'Sunak': 1.0, 'widely': 0.3333333333333333, 'assumed': 0.3333333333333333, 'herald': 0.3333333333333333, 'return': 0.3333333333333333, '“': 0.6666666666666666, 'grown': 0.3333333333333333, '”': 0.6666666666666666, 'managerial': 0.3333333333333333, 'style': 0.3333333333333333, 'politics': 0.3333333333333333, 'Downing': 0.3333333333333333, 'Street': 0.3333333333333333, 'markets': 0.3333333333333333, 'duly': 0.3333333333333333, 'placated': 0.3333333333333333, 'Jeremy': 0.3333333333333333, 'Hunt': 0.3333333333333333, 'autumn': 0.3333333333333333, 'statement': 0.3333333333333333, 'senior': 0.3333333333333333, 'Tories': 0.3333333333333333, 'began': 0.3333333333333333, 'worry': 0.3333333333333333, 'Sunakian': 0.3333333333333333, 'stability': 0.3333333333333333, 'fiscal': 0.3333333333333333, 'orthodoxy': 0.3333333333333333, 'boring': 0.3333333333333333, 'platform': 0.3333333333333333, 'face': 0.3333333333333333, 'Labour': 0.3333333333333333, 'election': 0.3333333333333333, 'turns': 0.6666666666666666, 'outside': 0.3333333333333333, 'City': 0.3333333333333333, 'Britons': 0.3333333333333333, 'bored': 0.3333333333333333, 'Mr': 0.6666666666666666, 'fledgling': 0.3333333333333333, 'premiership': 0.3333333333333333, 'furious': 0.3333333333333333, 'insurgent': 0.3333333333333333, 'Rail': 0.3333333333333333, 'postal': 0.3333333333333333, 'workers': 0.6666666666666666, 'nurses': 0.3333333333333333, 'ambulance': 0.3333333333333333, 'civil': 0.3333333333333333, 'servants': 0.3333333333333333, 'currently': 0.3333333333333333, 'planning': 0.3333333333333333, 'strike': 1.0, 'December': 0.3333333333333333, 'joined': 0.3333333333333333, 'teachers': 0.3333333333333333, 'junior': 0.3333333333333333, 'doctors': 0.3333333333333333, 'new': 0.3333333333333333, 'year': 0.6666666666666666, 'million': 0.3333333333333333, 'members': 0.3333333333333333, 'workforce': 0.3333333333333333, 'withdraw': 0.3333333333333333, 'labour': 0.3333333333333333, 'lead': 0.3333333333333333, 'Christmas': 0.3333333333333333, '–': 0.3333333333333333, 'numbers': 0.3333333333333333, 'reminiscent': 0.3333333333333333, 'winter': 0.6666666666666666, 'discontent': 0.3333333333333333, '1978/9': 0.3333333333333333, 'despite': 0.3333333333333333, 'lower': 0.3333333333333333, 'levels': 0.3333333333333333, 'union': 0.3333333333333333, 'membership': 0.3333333333333333, 'far': 0.3333333333333333, 'stringent': 0.3333333333333333, 'rules': 0.3333333333333333, 'governing': 0.3333333333333333, 'action': 0.6666666666666666, 'Disastrously': 0.3333333333333333, 'buffeted': 0.3333333333333333, 'U': 0.3333333333333333, 'housebuilding': 0.3333333333333333, 'onshore': 0.3333333333333333, 'windfarms': 0.3333333333333333, 'internal': 0.3333333333333333, 'party': 0.3333333333333333, 'revolts': 0.3333333333333333, 'appears': 0.3333333333333333, 'strikes': 0.3333333333333333, 'chance': 0.3333333333333333, 'confound': 0.3333333333333333, 'critics': 0.3333333333333333, 'accuse': 0.3333333333333333, 'weak': 0.3333333333333333, 'prime': 0.3333333333333333, 'minister': 0.3333333333333333, 'questions': 0.3333333333333333, 'Wednesday': 0.3333333333333333, 'challenged': 0.3333333333333333, 'Keir': 0.3333333333333333, 'Starmer': 0.3333333333333333, 'tougher': 0.3333333333333333, 'anti': 0.3333333333333333, 'legislation': 0.3333333333333333, 'introduced': 0.3333333333333333, 'transport': 0.3333333333333333, 'secretary': 0.3333333333333333, 'Mark': 0.3333333333333333, 'Harper': 0.3333333333333333, 'admitted': 0.3333333333333333, 'affect': 0.3333333333333333, 'industrial': 0.3333333333333333, 'point': 0.3333333333333333, 'government': 0.3333333333333333, 'current': 0.3333333333333333, 'strategy': 0.3333333333333333, 'whip': 0.3333333333333333, 'confrontation': 0.3333333333333333, 'unions': 0.3333333333333333, 'belief': 0.3333333333333333, 'public': 0.3333333333333333}\n"
          ]
        }
      ]
    },
    {
      "cell_type": "code",
      "source": [
        "sentence_tokens = [sent for sent in doc.sents]\n",
        "print(sentence_tokens)"
      ],
      "metadata": {
        "colab": {
          "base_uri": "https://localhost:8080/"
        },
        "id": "quanIkDU2c_z",
        "outputId": "08117108-17b0-4506-a492-ab452429ac78"
      },
      "execution_count": null,
      "outputs": [
        {
          "output_type": "stream",
          "name": "stdout",
          "text": [
            "[The replacement of the hapless Liz Truss by Rishi Sunak was widely assumed to herald the return of a “grown-up”, managerial style of politics to Downing Street., With the markets duly placated by Jeremy Hunt’s autumn statement, some senior Tories even began to worry that Sunakian stability and fiscal orthodoxy would be too boring a platform on which to face Labour at the next election., But it turns out that, outside the City, Britons aren’t bored by Mr Sunak’s fledgling premiership; they are furious and insurgent., Rail and postal workers, nurses, ambulance workers and civil servants are currently planning to go on strike in December., They may be joined by teachers and junior doctors in the new year., In all, more than a million members of the workforce may withdraw their labour in the lead-up to Christmas – numbers reminiscent of the “winter of discontent” in 1978/9., This is despite lower levels of union membership and far more stringent rules governing strike action., Disastrously, after being buffeted into U-turns on housebuilding and onshore windfarms by internal party revolts, Mr Sunak appears to see the strikes as a chance to confound those critics who accuse him of being weak., At prime minister’s questions on Wednesday, he challenged Keir Starmer to back even tougher anti-strike legislation, to be introduced next year., As the transport secretary, Mark Harper, has admitted, this will not affect industrial action this winter, but that is not the point., The government’s current strategy is to whip up a confrontation with the unions in the belief that the public will be on its side.]\n"
          ]
        }
      ]
    },
    {
      "cell_type": "code",
      "source": [
        "\n",
        "sentence_scores = {}\n",
        "for sent in sentence_tokens:\n",
        "  for word in sent:\n",
        "    if word.text.lower() in word_frequencies.keys():\n",
        "      if sent not in sentence_scores.keys():\n",
        "        sentence_scores[sent] = word_frequencies[word.text.lower()]\n",
        "      else:\n",
        "        sentence_scores[sent] += word_frequencies[word.text.lower()]\n"
      ],
      "metadata": {
        "id": "OIdmYYxv3T2E"
      },
      "execution_count": null,
      "outputs": []
    },
    {
      "cell_type": "code",
      "source": [
        "\n",
        "sentence_scores\n",
        "     "
      ],
      "metadata": {
        "colab": {
          "base_uri": "https://localhost:8080/"
        },
        "id": "ZmJ8zWb63lq1",
        "outputId": "bc5d5ee7-2bb3-4005-a9d6-addb1e06ba3c"
      },
      "execution_count": null,
      "outputs": [
        {
          "output_type": "execute_result",
          "data": {
            "text/plain": [
              "{The replacement of the hapless Liz Truss by Rishi Sunak was widely assumed to herald the return of a “grown-up”, managerial style of politics to Downing Street.: 4.666666666666666,\n",
              " With the markets duly placated by Jeremy Hunt’s autumn statement, some senior Tories even began to worry that Sunakian stability and fiscal orthodoxy would be too boring a platform on which to face Labour at the next election.: 5.333333333333332,\n",
              " But it turns out that, outside the City, Britons aren’t bored by Mr Sunak’s fledgling premiership; they are furious and insurgent.: 2.6666666666666665,\n",
              " Rail and postal workers, nurses, ambulance workers and civil servants are currently planning to go on strike in December.: 4.666666666666667,\n",
              " They may be joined by teachers and junior doctors in the new year.: 2.333333333333333,\n",
              " In all, more than a million members of the workforce may withdraw their labour in the lead-up to Christmas – numbers reminiscent of the “winter of discontent” in 1978/9.: 5.666666666666666,\n",
              " This is despite lower levels of union membership and far more stringent rules governing strike action.: 4.666666666666667,\n",
              " Disastrously, after being buffeted into U-turns on housebuilding and onshore windfarms by internal party revolts, Mr Sunak appears to see the strikes as a chance to confound those critics who accuse him of being weak.: 5.333333333333332,\n",
              " At prime minister’s questions on Wednesday, he challenged Keir Starmer to back even tougher anti-strike legislation, to be introduced next year.: 4.333333333333334,\n",
              " As the transport secretary, Mark Harper, has admitted, this will not affect industrial action this winter, but that is not the point.: 3.333333333333333,\n",
              " The government’s current strategy is to whip up a confrontation with the unions in the belief that the public will be on its side.: 2.6666666666666665}"
            ]
          },
          "metadata": {},
          "execution_count": 34
        }
      ]
    },
    {
      "cell_type": "code",
      "source": [
        "from heapq import nlargest\n",
        "     "
      ],
      "metadata": {
        "id": "va1ar3Kk3mAz"
      },
      "execution_count": null,
      "outputs": []
    },
    {
      "cell_type": "code",
      "source": [
        "select_length = int(len(sentence_tokens)*0.3)\n",
        "select_length"
      ],
      "metadata": {
        "colab": {
          "base_uri": "https://localhost:8080/"
        },
        "id": "pIO4Musw3phZ",
        "outputId": "6230bdf4-ac70-418f-9524-84ce349ac12c"
      },
      "execution_count": null,
      "outputs": [
        {
          "output_type": "execute_result",
          "data": {
            "text/plain": [
              "3"
            ]
          },
          "metadata": {},
          "execution_count": 38
        }
      ]
    },
    {
      "cell_type": "code",
      "source": [
        "\n",
        "\n",
        "summary = nlargest(select_length, sentence_scores, key = sentence_scores.get)\n",
        "     "
      ],
      "metadata": {
        "id": "acK_qKpE3uGK"
      },
      "execution_count": null,
      "outputs": []
    },
    {
      "cell_type": "code",
      "source": [
        "summary\n"
      ],
      "metadata": {
        "colab": {
          "base_uri": "https://localhost:8080/"
        },
        "id": "nkF25Qqt3xu-",
        "outputId": "acacbc78-5bfa-43fe-c7e0-edc0f9283876"
      },
      "execution_count": null,
      "outputs": [
        {
          "output_type": "execute_result",
          "data": {
            "text/plain": [
              "[In all, more than a million members of the workforce may withdraw their labour in the lead-up to Christmas – numbers reminiscent of the “winter of discontent” in 1978/9.,\n",
              " With the markets duly placated by Jeremy Hunt’s autumn statement, some senior Tories even began to worry that Sunakian stability and fiscal orthodoxy would be too boring a platform on which to face Labour at the next election.,\n",
              " Disastrously, after being buffeted into U-turns on housebuilding and onshore windfarms by internal party revolts, Mr Sunak appears to see the strikes as a chance to confound those critics who accuse him of being weak.]"
            ]
          },
          "metadata": {},
          "execution_count": 40
        }
      ]
    },
    {
      "cell_type": "code",
      "source": [
        "\n",
        "final_summary = [word.text for word in summary]\n",
        "     "
      ],
      "metadata": {
        "id": "c4xU8GHm31dJ"
      },
      "execution_count": null,
      "outputs": []
    },
    {
      "cell_type": "code",
      "source": [
        "summary = ' '.join(final_summary)\n",
        "     "
      ],
      "metadata": {
        "id": "ee0CiaA734iH"
      },
      "execution_count": null,
      "outputs": []
    },
    {
      "cell_type": "code",
      "source": [
        "\n",
        "text"
      ],
      "metadata": {
        "colab": {
          "base_uri": "https://localhost:8080/",
          "height": 139
        },
        "id": "-DUKcERw36MR",
        "outputId": "6bc793b0-34b3-4c3d-cfae-282152c19184"
      },
      "execution_count": null,
      "outputs": [
        {
          "output_type": "execute_result",
          "data": {
            "text/plain": [
              "'The replacement of the hapless Liz Truss by Rishi Sunak was widely assumed to herald the return of a “grown-up”, managerial style of politics to Downing Street. With the markets duly placated by Jeremy Hunt’s autumn statement, some senior Tories even began to worry that Sunakian stability and fiscal orthodoxy would be too boring a platform on which to face Labour at the next election.But it turns out that, outside the City, Britons aren’t bored by Mr Sunak’s fledgling premiership; they are furious and insurgent. Rail and postal workers, nurses, ambulance workers and civil servants are currently planning to go on strike in December. They may be joined by teachers and junior doctors in the new year. In all, more than a million members of the workforce may withdraw their labour in the lead-up to Christmas – numbers reminiscent of the “winter of discontent” in 1978/9. This is despite lower levels of union membership and far more stringent rules governing strike action.Disastrously, after being buffeted into U-turns on housebuilding and onshore windfarms by internal party revolts, Mr Sunak appears to see the strikes as a chance to confound those critics who accuse him of being weak. At prime minister’s questions on Wednesday, he challenged Keir Starmer to back even tougher anti-strike legislation, to be introduced next year. As the transport secretary, Mark Harper, has admitted, this will not affect industrial action this winter, but that is not the point. The government’s current strategy is to whip up a confrontation with the unions in the belief that the public will be on its side.'"
            ],
            "application/vnd.google.colaboratory.intrinsic+json": {
              "type": "string"
            }
          },
          "metadata": {},
          "execution_count": 45
        }
      ]
    },
    {
      "cell_type": "code",
      "source": [
        "summary"
      ],
      "metadata": {
        "colab": {
          "base_uri": "https://localhost:8080/",
          "height": 104
        },
        "id": "wXI34KBf3-VY",
        "outputId": "c7471a9b-2468-4a32-86aa-9a11de9d94e1"
      },
      "execution_count": null,
      "outputs": [
        {
          "output_type": "execute_result",
          "data": {
            "text/plain": [
              "'In all, more than a million members of the workforce may withdraw their labour in the lead-up to Christmas – numbers reminiscent of the “winter of discontent” in 1978/9. With the markets duly placated by Jeremy Hunt’s autumn statement, some senior Tories even began to worry that Sunakian stability and fiscal orthodoxy would be too boring a platform on which to face Labour at the next election. Disastrously, after being buffeted into U-turns on housebuilding and onshore windfarms by internal party revolts, Mr Sunak appears to see the strikes as a chance to confound those critics who accuse him of being weak.'"
            ],
            "application/vnd.google.colaboratory.intrinsic+json": {
              "type": "string"
            }
          },
          "metadata": {},
          "execution_count": 46
        }
      ]
    },
    {
      "cell_type": "code",
      "source": [],
      "metadata": {
        "id": "nMUGqlBY4BnJ"
      },
      "execution_count": null,
      "outputs": []
    }
  ]
}